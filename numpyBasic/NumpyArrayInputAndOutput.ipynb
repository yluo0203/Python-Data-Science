{
 "cells": [
  {
   "cell_type": "code",
   "execution_count": 1,
   "metadata": {},
   "outputs": [],
   "source": [
    "# using pickle for serialization\n",
    "import pickle\n",
    "import numpy as np"
   ]
  },
  {
   "cell_type": "code",
   "execution_count": 17,
   "metadata": {},
   "outputs": [
    {
     "data": {
      "text/plain": [
       "array([0, 1, 2, 3, 4, 5, 6, 7, 8, 9])"
      ]
     },
     "execution_count": 17,
     "metadata": {},
     "output_type": "execute_result"
    }
   ],
   "source": [
    "x = np.arange(10)\n",
    "x"
   ]
  },
  {
   "cell_type": "code",
   "execution_count": 18,
   "metadata": {},
   "outputs": [],
   "source": [
    "f = open(\"x.pkl\", \"wb\")"
   ]
  },
  {
   "cell_type": "code",
   "execution_count": 19,
   "metadata": {},
   "outputs": [
    {
     "name": "stdout",
     "output_type": "stream",
     "text": [
      "\u001b[34mApplications\u001b[m\u001b[m                   \u001b[34mPycharmProjects\u001b[m\u001b[m\r\n",
      "\u001b[34mDesktop\u001b[m\u001b[m                        \u001b[34mSites\u001b[m\u001b[m\r\n",
      "\u001b[34mDocuments\u001b[m\u001b[m                      \u001b[34mTeamViewer\u001b[m\u001b[m\r\n",
      "\u001b[34mDownloads\u001b[m\u001b[m                      Untitled.ipynb\r\n",
      "\u001b[34mDropbox\u001b[m\u001b[m                        Untitled1.ipynb\r\n",
      "\u001b[34mGoogle Drive\u001b[m\u001b[m                   \u001b[34mVirtualBox VMs\u001b[m\u001b[m\r\n",
      "\u001b[34mIdeaProjects\u001b[m\u001b[m                   \u001b[34manaconda3\u001b[m\u001b[m\r\n",
      "\u001b[34mLibrary\u001b[m\u001b[m                        \u001b[34mmcuxpresso\u001b[m\u001b[m\r\n",
      "\u001b[34mMovies\u001b[m\u001b[m                         \u001b[34mmy_first_django_project\u001b[m\u001b[m\r\n",
      "\u001b[34mMusic\u001b[m\u001b[m                          temp.pkl\r\n",
      "NumpyArrayInputAndOutput.ipynb \u001b[34muntitled\u001b[m\u001b[m\r\n",
      "\u001b[34mPictures\u001b[m\u001b[m                       \u001b[34muntitled1\u001b[m\u001b[m\r\n",
      "\u001b[30m\u001b[43mPublic\u001b[m\u001b[m                         x.pkl\r\n"
     ]
    }
   ],
   "source": [
    "pickle.dump(x, f)\n",
    "!ls"
   ]
  },
  {
   "cell_type": "code",
   "execution_count": 20,
   "metadata": {},
   "outputs": [
    {
     "data": {
      "text/plain": [
       "array([0, 1, 2, 3, 4, 5, 6, 7, 8, 9])"
      ]
     },
     "execution_count": 20,
     "metadata": {},
     "output_type": "execute_result"
    }
   ],
   "source": [
    "f = open(\"x.pkl\", \"rb\")\n",
    "pickle.load(f)"
   ]
  },
  {
   "cell_type": "code",
   "execution_count": 23,
   "metadata": {},
   "outputs": [
    {
     "name": "stdout",
     "output_type": "stream",
     "text": [
      "\u001b[34mApplications\u001b[m\u001b[m                   \u001b[34mSites\u001b[m\u001b[m\r\n",
      "\u001b[34mDesktop\u001b[m\u001b[m                        \u001b[34mTeamViewer\u001b[m\u001b[m\r\n",
      "\u001b[34mDocuments\u001b[m\u001b[m                      Untitled.ipynb\r\n",
      "\u001b[34mDownloads\u001b[m\u001b[m                      Untitled1.ipynb\r\n",
      "\u001b[34mDropbox\u001b[m\u001b[m                        \u001b[34mVirtualBox VMs\u001b[m\u001b[m\r\n",
      "\u001b[34mGoogle Drive\u001b[m\u001b[m                   \u001b[34manaconda3\u001b[m\u001b[m\r\n",
      "\u001b[34mIdeaProjects\u001b[m\u001b[m                   \u001b[34mmcuxpresso\u001b[m\u001b[m\r\n",
      "\u001b[34mLibrary\u001b[m\u001b[m                        \u001b[34mmy_first_django_project\u001b[m\u001b[m\r\n",
      "\u001b[34mMovies\u001b[m\u001b[m                         one_array.npy\r\n",
      "\u001b[34mMusic\u001b[m\u001b[m                          temp.pkl\r\n",
      "NumpyArrayInputAndOutput.ipynb \u001b[34muntitled\u001b[m\u001b[m\r\n",
      "\u001b[34mPictures\u001b[m\u001b[m                       \u001b[34muntitled1\u001b[m\u001b[m\r\n",
      "\u001b[30m\u001b[43mPublic\u001b[m\u001b[m                         x.pkl\r\n",
      "\u001b[34mPycharmProjects\u001b[m\u001b[m\r\n"
     ]
    }
   ],
   "source": [
    "# serialize by Numpy\n",
    "np.save(\"one_array\", x)\n",
    "!ls"
   ]
  },
  {
   "cell_type": "code",
   "execution_count": 24,
   "metadata": {},
   "outputs": [
    {
     "data": {
      "text/plain": [
       "array([0, 1, 2, 3, 4, 5, 6, 7, 8, 9])"
      ]
     },
     "execution_count": 24,
     "metadata": {},
     "output_type": "execute_result"
    }
   ],
   "source": [
    "np.load(\"one_array.npy\")"
   ]
  },
  {
   "cell_type": "code",
   "execution_count": 27,
   "metadata": {},
   "outputs": [
    {
     "name": "stdout",
     "output_type": "stream",
     "text": [
      "[ 0  1  2  3  4  5  6  7  8  9 10 11 12 13 14 15 16 17 18 19]\n"
     ]
    }
   ],
   "source": [
    "y = np.arange(20)\n",
    "print(y)"
   ]
  },
  {
   "cell_type": "code",
   "execution_count": 29,
   "metadata": {},
   "outputs": [
    {
     "name": "stdout",
     "output_type": "stream",
     "text": [
      "\u001b[34mApplications\u001b[m\u001b[m                   \u001b[34mSites\u001b[m\u001b[m\r\n",
      "\u001b[34mDesktop\u001b[m\u001b[m                        \u001b[34mTeamViewer\u001b[m\u001b[m\r\n",
      "\u001b[34mDocuments\u001b[m\u001b[m                      Untitled.ipynb\r\n",
      "\u001b[34mDownloads\u001b[m\u001b[m                      Untitled1.ipynb\r\n",
      "\u001b[34mDropbox\u001b[m\u001b[m                        \u001b[34mVirtualBox VMs\u001b[m\u001b[m\r\n",
      "\u001b[34mGoogle Drive\u001b[m\u001b[m                   \u001b[34manaconda3\u001b[m\u001b[m\r\n",
      "\u001b[34mIdeaProjects\u001b[m\u001b[m                   \u001b[34mmcuxpresso\u001b[m\u001b[m\r\n",
      "\u001b[34mLibrary\u001b[m\u001b[m                        \u001b[34mmy_first_django_project\u001b[m\u001b[m\r\n",
      "\u001b[34mMovies\u001b[m\u001b[m                         one_array.npy\r\n",
      "\u001b[34mMusic\u001b[m\u001b[m                          temp.pkl\r\n",
      "NumpyArrayInputAndOutput.ipynb two_array.npz\r\n",
      "\u001b[34mPictures\u001b[m\u001b[m                       \u001b[34muntitled\u001b[m\u001b[m\r\n",
      "\u001b[30m\u001b[43mPublic\u001b[m\u001b[m                         \u001b[34muntitled1\u001b[m\u001b[m\r\n",
      "\u001b[34mPycharmProjects\u001b[m\u001b[m                x.pkl\r\n"
     ]
    }
   ],
   "source": [
    "np.savez(\"two_array.npz\", a = x, b = y)\n",
    "!ls"
   ]
  },
  {
   "cell_type": "code",
   "execution_count": 32,
   "metadata": {},
   "outputs": [],
   "source": [
    "c = np.load(\"two_array.npz\")"
   ]
  },
  {
   "cell_type": "code",
   "execution_count": 33,
   "metadata": {},
   "outputs": [
    {
     "data": {
      "text/plain": [
       "array([0, 1, 2, 3, 4, 5, 6, 7, 8, 9])"
      ]
     },
     "execution_count": 33,
     "metadata": {},
     "output_type": "execute_result"
    }
   ],
   "source": [
    "c[\"a\"]"
   ]
  },
  {
   "cell_type": "code",
   "execution_count": 34,
   "metadata": {},
   "outputs": [
    {
     "data": {
      "text/plain": [
       "array([ 0,  1,  2,  3,  4,  5,  6,  7,  8,  9, 10, 11, 12, 13, 14, 15, 16,\n",
       "       17, 18, 19])"
      ]
     },
     "execution_count": 34,
     "metadata": {},
     "output_type": "execute_result"
    }
   ],
   "source": [
    "c[\"b\"]"
   ]
  },
  {
   "cell_type": "code",
   "execution_count": null,
   "metadata": {},
   "outputs": [],
   "source": [
    "# https://docs.scipy.org/doc/numpy-1.15.1/index.html"
   ]
  }
 ],
 "metadata": {
  "kernelspec": {
   "display_name": "Python 3",
   "language": "python",
   "name": "python3"
  },
  "language_info": {
   "codemirror_mode": {
    "name": "ipython",
    "version": 3
   },
   "file_extension": ".py",
   "mimetype": "text/x-python",
   "name": "python",
   "nbconvert_exporter": "python",
   "pygments_lexer": "ipython3",
   "version": "3.5.5"
  }
 },
 "nbformat": 4,
 "nbformat_minor": 2
}
