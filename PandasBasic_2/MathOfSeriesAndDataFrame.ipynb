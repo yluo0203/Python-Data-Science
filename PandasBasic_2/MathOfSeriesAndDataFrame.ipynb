{
 "cells": [
  {
   "cell_type": "code",
   "execution_count": 1,
   "metadata": {},
   "outputs": [],
   "source": [
    "import numpy as np\n",
    "import pandas as pd\n",
    "from pandas import Series, DataFrame"
   ]
  },
  {
   "cell_type": "markdown",
   "metadata": {},
   "source": [
    "# Series"
   ]
  },
  {
   "cell_type": "code",
   "execution_count": 3,
   "metadata": {},
   "outputs": [
    {
     "data": {
      "text/plain": [
       "0    0.350730\n",
       "1    0.855736\n",
       "2    0.418090\n",
       "3    0.370348\n",
       "4    0.779547\n",
       "5    0.474606\n",
       "6    0.433522\n",
       "7    0.840882\n",
       "8    0.736751\n",
       "9    0.947566\n",
       "dtype: float64"
      ]
     },
     "execution_count": 3,
     "metadata": {},
     "output_type": "execute_result"
    }
   ],
   "source": [
    "s = Series(np.random.rand(10))\n",
    "s"
   ]
  },
  {
   "cell_type": "code",
   "execution_count": 18,
   "metadata": {},
   "outputs": [
    {
     "data": {
      "text/plain": [
       "9    0.947566\n",
       "1    0.855736\n",
       "7    0.840882\n",
       "4    0.779547\n",
       "8    0.736751\n",
       "5    0.474606\n",
       "6    0.433522\n",
       "2    0.418090\n",
       "3    0.370348\n",
       "0    0.350730\n",
       "dtype: float64"
      ]
     },
     "execution_count": 18,
     "metadata": {},
     "output_type": "execute_result"
    }
   ],
   "source": [
    "s.sort_values(ascending = False)"
   ]
  },
  {
   "cell_type": "code",
   "execution_count": 19,
   "metadata": {},
   "outputs": [
    {
     "data": {
      "text/plain": [
       "0.9475660170256158"
      ]
     },
     "execution_count": 19,
     "metadata": {},
     "output_type": "execute_result"
    }
   ],
   "source": [
    "s.max()"
   ]
  },
  {
   "cell_type": "code",
   "execution_count": 20,
   "metadata": {},
   "outputs": [
    {
     "data": {
      "text/plain": [
       "0.6207778506888578"
      ]
     },
     "execution_count": 20,
     "metadata": {},
     "output_type": "execute_result"
    }
   ],
   "source": [
    "s.mean()"
   ]
  },
  {
   "cell_type": "code",
   "execution_count": 25,
   "metadata": {},
   "outputs": [
    {
     "data": {
      "text/plain": [
       "A    5.0\n",
       "B    NaN\n",
       "C    NaN\n",
       "D    NaN\n",
       "E    NaN\n",
       "dtype: float64"
      ]
     },
     "execution_count": 25,
     "metadata": {},
     "output_type": "execute_result"
    }
   ],
   "source": [
    "s1 = Series([1, 2, 3], index = [\"A\", \"B\", \"C\"])\n",
    "s2 = Series([4, 5, 6], index = [\"A\", \"D\", \"E\"])\n",
    "s1 + s2\n",
    "# A = 5, B~E = NaN"
   ]
  },
  {
   "cell_type": "markdown",
   "metadata": {},
   "source": [
    "# DataFrame"
   ]
  },
  {
   "cell_type": "code",
   "execution_count": 27,
   "metadata": {},
   "outputs": [
    {
     "data": {
      "text/html": [
       "<div>\n",
       "<style scoped>\n",
       "    .dataframe tbody tr th:only-of-type {\n",
       "        vertical-align: middle;\n",
       "    }\n",
       "\n",
       "    .dataframe tbody tr th {\n",
       "        vertical-align: top;\n",
       "    }\n",
       "\n",
       "    .dataframe thead th {\n",
       "        text-align: right;\n",
       "    }\n",
       "</style>\n",
       "<table border=\"1\" class=\"dataframe\">\n",
       "  <thead>\n",
       "    <tr style=\"text-align: right;\">\n",
       "      <th></th>\n",
       "      <th>0</th>\n",
       "      <th>1</th>\n",
       "      <th>2</th>\n",
       "      <th>3</th>\n",
       "      <th>4</th>\n",
       "    </tr>\n",
       "  </thead>\n",
       "  <tbody>\n",
       "    <tr>\n",
       "      <th>0</th>\n",
       "      <td>0.373109</td>\n",
       "      <td>0.400603</td>\n",
       "      <td>0.107454</td>\n",
       "      <td>0.141832</td>\n",
       "      <td>0.359146</td>\n",
       "    </tr>\n",
       "    <tr>\n",
       "      <th>1</th>\n",
       "      <td>0.525993</td>\n",
       "      <td>0.702735</td>\n",
       "      <td>0.364813</td>\n",
       "      <td>0.392390</td>\n",
       "      <td>0.461597</td>\n",
       "    </tr>\n",
       "    <tr>\n",
       "      <th>2</th>\n",
       "      <td>0.592977</td>\n",
       "      <td>0.316675</td>\n",
       "      <td>0.957379</td>\n",
       "      <td>0.735226</td>\n",
       "      <td>0.769942</td>\n",
       "    </tr>\n",
       "    <tr>\n",
       "      <th>3</th>\n",
       "      <td>0.725701</td>\n",
       "      <td>0.654349</td>\n",
       "      <td>0.620125</td>\n",
       "      <td>0.903575</td>\n",
       "      <td>0.466381</td>\n",
       "    </tr>\n",
       "  </tbody>\n",
       "</table>\n",
       "</div>"
      ],
      "text/plain": [
       "          0         1         2         3         4\n",
       "0  0.373109  0.400603  0.107454  0.141832  0.359146\n",
       "1  0.525993  0.702735  0.364813  0.392390  0.461597\n",
       "2  0.592977  0.316675  0.957379  0.735226  0.769942\n",
       "3  0.725701  0.654349  0.620125  0.903575  0.466381"
      ]
     },
     "execution_count": 27,
     "metadata": {},
     "output_type": "execute_result"
    }
   ],
   "source": [
    "df = DataFrame(np.random.rand(20).reshape(4, 5))\n",
    "df"
   ]
  },
  {
   "cell_type": "code",
   "execution_count": 29,
   "metadata": {},
   "outputs": [
    {
     "ename": "TypeError",
     "evalue": "sort_values() missing 1 required positional argument: 'by'",
     "output_type": "error",
     "traceback": [
      "\u001b[0;31m---------------------------------------------------------------------------\u001b[0m",
      "\u001b[0;31mTypeError\u001b[0m                                 Traceback (most recent call last)",
      "\u001b[0;32m<ipython-input-29-9baf0daa5fc6>\u001b[0m in \u001b[0;36m<module>\u001b[0;34m()\u001b[0m\n\u001b[0;32m----> 1\u001b[0;31m \u001b[0mdf\u001b[0m\u001b[0;34m.\u001b[0m\u001b[0msort_values\u001b[0m\u001b[0;34m(\u001b[0m\u001b[0;34m)\u001b[0m\u001b[0;34m\u001b[0m\u001b[0m\n\u001b[0m",
      "\u001b[0;31mTypeError\u001b[0m: sort_values() missing 1 required positional argument: 'by'"
     ]
    }
   ],
   "source": [
    "df.sort_values()\n",
    "# TypeError: sort_values() missing 1 required positional argument: 'by'"
   ]
  },
  {
   "cell_type": "code",
   "execution_count": 30,
   "metadata": {},
   "outputs": [
    {
     "data": {
      "text/html": [
       "<div>\n",
       "<style scoped>\n",
       "    .dataframe tbody tr th:only-of-type {\n",
       "        vertical-align: middle;\n",
       "    }\n",
       "\n",
       "    .dataframe tbody tr th {\n",
       "        vertical-align: top;\n",
       "    }\n",
       "\n",
       "    .dataframe thead th {\n",
       "        text-align: right;\n",
       "    }\n",
       "</style>\n",
       "<table border=\"1\" class=\"dataframe\">\n",
       "  <thead>\n",
       "    <tr style=\"text-align: right;\">\n",
       "      <th></th>\n",
       "      <th>0</th>\n",
       "      <th>1</th>\n",
       "      <th>2</th>\n",
       "      <th>3</th>\n",
       "      <th>4</th>\n",
       "    </tr>\n",
       "  </thead>\n",
       "  <tbody>\n",
       "    <tr>\n",
       "      <th>0</th>\n",
       "      <td>0.373109</td>\n",
       "      <td>0.400603</td>\n",
       "      <td>0.107454</td>\n",
       "      <td>0.141832</td>\n",
       "      <td>0.359146</td>\n",
       "    </tr>\n",
       "    <tr>\n",
       "      <th>1</th>\n",
       "      <td>0.525993</td>\n",
       "      <td>0.702735</td>\n",
       "      <td>0.364813</td>\n",
       "      <td>0.392390</td>\n",
       "      <td>0.461597</td>\n",
       "    </tr>\n",
       "    <tr>\n",
       "      <th>3</th>\n",
       "      <td>0.725701</td>\n",
       "      <td>0.654349</td>\n",
       "      <td>0.620125</td>\n",
       "      <td>0.903575</td>\n",
       "      <td>0.466381</td>\n",
       "    </tr>\n",
       "    <tr>\n",
       "      <th>2</th>\n",
       "      <td>0.592977</td>\n",
       "      <td>0.316675</td>\n",
       "      <td>0.957379</td>\n",
       "      <td>0.735226</td>\n",
       "      <td>0.769942</td>\n",
       "    </tr>\n",
       "  </tbody>\n",
       "</table>\n",
       "</div>"
      ],
      "text/plain": [
       "          0         1         2         3         4\n",
       "0  0.373109  0.400603  0.107454  0.141832  0.359146\n",
       "1  0.525993  0.702735  0.364813  0.392390  0.461597\n",
       "3  0.725701  0.654349  0.620125  0.903575  0.466381\n",
       "2  0.592977  0.316675  0.957379  0.735226  0.769942"
      ]
     },
     "execution_count": 30,
     "metadata": {},
     "output_type": "execute_result"
    }
   ],
   "source": [
    "df.sort_values(4)\n",
    "# Sort row by col = 4"
   ]
  },
  {
   "cell_type": "code",
   "execution_count": 33,
   "metadata": {},
   "outputs": [
    {
     "data": {
      "text/html": [
       "<div>\n",
       "<style scoped>\n",
       "    .dataframe tbody tr th:only-of-type {\n",
       "        vertical-align: middle;\n",
       "    }\n",
       "\n",
       "    .dataframe tbody tr th {\n",
       "        vertical-align: top;\n",
       "    }\n",
       "\n",
       "    .dataframe thead th {\n",
       "        text-align: right;\n",
       "    }\n",
       "</style>\n",
       "<table border=\"1\" class=\"dataframe\">\n",
       "  <thead>\n",
       "    <tr style=\"text-align: right;\">\n",
       "      <th></th>\n",
       "      <th>2</th>\n",
       "      <th>3</th>\n",
       "      <th>4</th>\n",
       "      <th>0</th>\n",
       "      <th>1</th>\n",
       "    </tr>\n",
       "  </thead>\n",
       "  <tbody>\n",
       "    <tr>\n",
       "      <th>0</th>\n",
       "      <td>0.107454</td>\n",
       "      <td>0.141832</td>\n",
       "      <td>0.359146</td>\n",
       "      <td>0.373109</td>\n",
       "      <td>0.400603</td>\n",
       "    </tr>\n",
       "    <tr>\n",
       "      <th>1</th>\n",
       "      <td>0.364813</td>\n",
       "      <td>0.392390</td>\n",
       "      <td>0.461597</td>\n",
       "      <td>0.525993</td>\n",
       "      <td>0.702735</td>\n",
       "    </tr>\n",
       "    <tr>\n",
       "      <th>2</th>\n",
       "      <td>0.957379</td>\n",
       "      <td>0.735226</td>\n",
       "      <td>0.769942</td>\n",
       "      <td>0.592977</td>\n",
       "      <td>0.316675</td>\n",
       "    </tr>\n",
       "    <tr>\n",
       "      <th>3</th>\n",
       "      <td>0.620125</td>\n",
       "      <td>0.903575</td>\n",
       "      <td>0.466381</td>\n",
       "      <td>0.725701</td>\n",
       "      <td>0.654349</td>\n",
       "    </tr>\n",
       "  </tbody>\n",
       "</table>\n",
       "</div>"
      ],
      "text/plain": [
       "          2         3         4         0         1\n",
       "0  0.107454  0.141832  0.359146  0.373109  0.400603\n",
       "1  0.364813  0.392390  0.461597  0.525993  0.702735\n",
       "2  0.957379  0.735226  0.769942  0.592977  0.316675\n",
       "3  0.620125  0.903575  0.466381  0.725701  0.654349"
      ]
     },
     "execution_count": 33,
     "metadata": {},
     "output_type": "execute_result"
    }
   ],
   "source": [
    "df.sort_values(axis = 1, by = 0)\n",
    "# Sort col by row = 0"
   ]
  },
  {
   "cell_type": "code",
   "execution_count": 35,
   "metadata": {},
   "outputs": [
    {
     "data": {
      "text/html": [
       "<div>\n",
       "<style scoped>\n",
       "    .dataframe tbody tr th:only-of-type {\n",
       "        vertical-align: middle;\n",
       "    }\n",
       "\n",
       "    .dataframe tbody tr th {\n",
       "        vertical-align: top;\n",
       "    }\n",
       "\n",
       "    .dataframe thead th {\n",
       "        text-align: right;\n",
       "    }\n",
       "</style>\n",
       "<table border=\"1\" class=\"dataframe\">\n",
       "  <thead>\n",
       "    <tr style=\"text-align: right;\">\n",
       "      <th></th>\n",
       "      <th>0</th>\n",
       "      <th>1</th>\n",
       "      <th>2</th>\n",
       "      <th>3</th>\n",
       "      <th>4</th>\n",
       "    </tr>\n",
       "  </thead>\n",
       "  <tbody>\n",
       "    <tr>\n",
       "      <th>3</th>\n",
       "      <td>0.177025</td>\n",
       "      <td>0.987498</td>\n",
       "      <td>0.666424</td>\n",
       "      <td>0.496468</td>\n",
       "      <td>0.645309</td>\n",
       "    </tr>\n",
       "    <tr>\n",
       "      <th>2</th>\n",
       "      <td>0.891818</td>\n",
       "      <td>0.329014</td>\n",
       "      <td>0.871559</td>\n",
       "      <td>0.818111</td>\n",
       "      <td>0.092475</td>\n",
       "    </tr>\n",
       "    <tr>\n",
       "      <th>1</th>\n",
       "      <td>0.032106</td>\n",
       "      <td>0.736272</td>\n",
       "      <td>0.424883</td>\n",
       "      <td>0.375619</td>\n",
       "      <td>0.403675</td>\n",
       "    </tr>\n",
       "    <tr>\n",
       "      <th>4</th>\n",
       "      <td>0.306808</td>\n",
       "      <td>0.633701</td>\n",
       "      <td>0.113853</td>\n",
       "      <td>0.525836</td>\n",
       "      <td>0.090432</td>\n",
       "    </tr>\n",
       "  </tbody>\n",
       "</table>\n",
       "</div>"
      ],
      "text/plain": [
       "          0         1         2         3         4\n",
       "3  0.177025  0.987498  0.666424  0.496468  0.645309\n",
       "2  0.891818  0.329014  0.871559  0.818111  0.092475\n",
       "1  0.032106  0.736272  0.424883  0.375619  0.403675\n",
       "4  0.306808  0.633701  0.113853  0.525836  0.090432"
      ]
     },
     "execution_count": 35,
     "metadata": {},
     "output_type": "execute_result"
    }
   ],
   "source": [
    "df1 = DataFrame(np.random.rand(20).reshape(4, 5), index = [3, 2, 1, 4])\n",
    "df1"
   ]
  },
  {
   "cell_type": "code",
   "execution_count": 44,
   "metadata": {},
   "outputs": [
    {
     "data": {
      "text/html": [
       "<div>\n",
       "<style scoped>\n",
       "    .dataframe tbody tr th:only-of-type {\n",
       "        vertical-align: middle;\n",
       "    }\n",
       "\n",
       "    .dataframe tbody tr th {\n",
       "        vertical-align: top;\n",
       "    }\n",
       "\n",
       "    .dataframe thead th {\n",
       "        text-align: right;\n",
       "    }\n",
       "</style>\n",
       "<table border=\"1\" class=\"dataframe\">\n",
       "  <thead>\n",
       "    <tr style=\"text-align: right;\">\n",
       "      <th></th>\n",
       "      <th>0</th>\n",
       "      <th>1</th>\n",
       "      <th>2</th>\n",
       "      <th>3</th>\n",
       "      <th>4</th>\n",
       "    </tr>\n",
       "  </thead>\n",
       "  <tbody>\n",
       "    <tr>\n",
       "      <th>1</th>\n",
       "      <td>0.032106</td>\n",
       "      <td>0.736272</td>\n",
       "      <td>0.424883</td>\n",
       "      <td>0.375619</td>\n",
       "      <td>0.403675</td>\n",
       "    </tr>\n",
       "    <tr>\n",
       "      <th>2</th>\n",
       "      <td>0.891818</td>\n",
       "      <td>0.329014</td>\n",
       "      <td>0.871559</td>\n",
       "      <td>0.818111</td>\n",
       "      <td>0.092475</td>\n",
       "    </tr>\n",
       "    <tr>\n",
       "      <th>3</th>\n",
       "      <td>0.177025</td>\n",
       "      <td>0.987498</td>\n",
       "      <td>0.666424</td>\n",
       "      <td>0.496468</td>\n",
       "      <td>0.645309</td>\n",
       "    </tr>\n",
       "    <tr>\n",
       "      <th>4</th>\n",
       "      <td>0.306808</td>\n",
       "      <td>0.633701</td>\n",
       "      <td>0.113853</td>\n",
       "      <td>0.525836</td>\n",
       "      <td>0.090432</td>\n",
       "    </tr>\n",
       "  </tbody>\n",
       "</table>\n",
       "</div>"
      ],
      "text/plain": [
       "          0         1         2         3         4\n",
       "1  0.032106  0.736272  0.424883  0.375619  0.403675\n",
       "2  0.891818  0.329014  0.871559  0.818111  0.092475\n",
       "3  0.177025  0.987498  0.666424  0.496468  0.645309\n",
       "4  0.306808  0.633701  0.113853  0.525836  0.090432"
      ]
     },
     "execution_count": 44,
     "metadata": {},
     "output_type": "execute_result"
    }
   ],
   "source": [
    "df1.sort_index()"
   ]
  },
  {
   "cell_type": "code",
   "execution_count": 49,
   "metadata": {},
   "outputs": [
    {
     "data": {
      "text/plain": [
       "0    0.891818\n",
       "1    0.987498\n",
       "2    0.871559\n",
       "3    0.818111\n",
       "4    0.645309\n",
       "dtype: float64"
      ]
     },
     "execution_count": 49,
     "metadata": {},
     "output_type": "execute_result"
    }
   ],
   "source": [
    "df1.max()\n",
    "# Same as;\n",
    "# df1.max(axis = 0)"
   ]
  },
  {
   "cell_type": "code",
   "execution_count": 52,
   "metadata": {},
   "outputs": [
    {
     "data": {
      "text/html": [
       "<div>\n",
       "<style scoped>\n",
       "    .dataframe tbody tr th:only-of-type {\n",
       "        vertical-align: middle;\n",
       "    }\n",
       "\n",
       "    .dataframe tbody tr th {\n",
       "        vertical-align: top;\n",
       "    }\n",
       "\n",
       "    .dataframe thead th {\n",
       "        text-align: right;\n",
       "    }\n",
       "</style>\n",
       "<table border=\"1\" class=\"dataframe\">\n",
       "  <thead>\n",
       "    <tr style=\"text-align: right;\">\n",
       "      <th></th>\n",
       "      <th>0</th>\n",
       "      <th>1</th>\n",
       "      <th>2</th>\n",
       "      <th>3</th>\n",
       "      <th>4</th>\n",
       "    </tr>\n",
       "  </thead>\n",
       "  <tbody>\n",
       "    <tr>\n",
       "      <th>count</th>\n",
       "      <td>4.000000</td>\n",
       "      <td>4.000000</td>\n",
       "      <td>4.000000</td>\n",
       "      <td>4.000000</td>\n",
       "      <td>4.000000</td>\n",
       "    </tr>\n",
       "    <tr>\n",
       "      <th>mean</th>\n",
       "      <td>0.351939</td>\n",
       "      <td>0.671621</td>\n",
       "      <td>0.519180</td>\n",
       "      <td>0.554009</td>\n",
       "      <td>0.307973</td>\n",
       "    </tr>\n",
       "    <tr>\n",
       "      <th>std</th>\n",
       "      <td>0.377003</td>\n",
       "      <td>0.272504</td>\n",
       "      <td>0.326105</td>\n",
       "      <td>0.187686</td>\n",
       "      <td>0.268774</td>\n",
       "    </tr>\n",
       "    <tr>\n",
       "      <th>min</th>\n",
       "      <td>0.032106</td>\n",
       "      <td>0.329014</td>\n",
       "      <td>0.113853</td>\n",
       "      <td>0.375619</td>\n",
       "      <td>0.090432</td>\n",
       "    </tr>\n",
       "    <tr>\n",
       "      <th>25%</th>\n",
       "      <td>0.140795</td>\n",
       "      <td>0.557530</td>\n",
       "      <td>0.347125</td>\n",
       "      <td>0.466256</td>\n",
       "      <td>0.091964</td>\n",
       "    </tr>\n",
       "    <tr>\n",
       "      <th>50%</th>\n",
       "      <td>0.241917</td>\n",
       "      <td>0.684987</td>\n",
       "      <td>0.545653</td>\n",
       "      <td>0.511152</td>\n",
       "      <td>0.248075</td>\n",
       "    </tr>\n",
       "    <tr>\n",
       "      <th>75%</th>\n",
       "      <td>0.453060</td>\n",
       "      <td>0.799078</td>\n",
       "      <td>0.717708</td>\n",
       "      <td>0.598905</td>\n",
       "      <td>0.464083</td>\n",
       "    </tr>\n",
       "    <tr>\n",
       "      <th>max</th>\n",
       "      <td>0.891818</td>\n",
       "      <td>0.987498</td>\n",
       "      <td>0.871559</td>\n",
       "      <td>0.818111</td>\n",
       "      <td>0.645309</td>\n",
       "    </tr>\n",
       "  </tbody>\n",
       "</table>\n",
       "</div>"
      ],
      "text/plain": [
       "              0         1         2         3         4\n",
       "count  4.000000  4.000000  4.000000  4.000000  4.000000\n",
       "mean   0.351939  0.671621  0.519180  0.554009  0.307973\n",
       "std    0.377003  0.272504  0.326105  0.187686  0.268774\n",
       "min    0.032106  0.329014  0.113853  0.375619  0.090432\n",
       "25%    0.140795  0.557530  0.347125  0.466256  0.091964\n",
       "50%    0.241917  0.684987  0.545653  0.511152  0.248075\n",
       "75%    0.453060  0.799078  0.717708  0.598905  0.464083\n",
       "max    0.891818  0.987498  0.871559  0.818111  0.645309"
      ]
     },
     "execution_count": 52,
     "metadata": {},
     "output_type": "execute_result"
    }
   ],
   "source": [
    "df1.describe()"
   ]
  },
  {
   "cell_type": "code",
   "execution_count": null,
   "metadata": {},
   "outputs": [],
   "source": []
  }
 ],
 "metadata": {
  "kernelspec": {
   "display_name": "Python 3",
   "language": "python",
   "name": "python3"
  },
  "language_info": {
   "codemirror_mode": {
    "name": "ipython",
    "version": 3
   },
   "file_extension": ".py",
   "mimetype": "text/x-python",
   "name": "python",
   "nbconvert_exporter": "python",
   "pygments_lexer": "ipython3",
   "version": "3.5.5"
  }
 },
 "nbformat": 4,
 "nbformat_minor": 2
}
