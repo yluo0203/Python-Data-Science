{
 "cells": [
  {
   "cell_type": "code",
   "execution_count": 1,
   "metadata": {},
   "outputs": [],
   "source": [
    "import numpy as np\n",
    "import pandas as pd\n",
    "from pandas import Series, DataFrame"
   ]
  },
  {
   "cell_type": "code",
   "execution_count": 4,
   "metadata": {},
   "outputs": [
    {
     "data": {
      "text/plain": [
       "array([68, 70, 87, 94, 44, 82, 77, 78, 92, 92, 77, 52, 88, 90, 37, 62, 59,\n",
       "       77, 42, 79])"
      ]
     },
     "execution_count": 4,
     "metadata": {},
     "output_type": "execute_result"
    }
   ],
   "source": [
    "score_list = np.random.randint(30, 100, 20)\n",
    "score_list"
   ]
  },
  {
   "cell_type": "code",
   "execution_count": 10,
   "metadata": {},
   "outputs": [
    {
     "data": {
      "text/plain": [
       "[(59, 79], (59, 79], (79, 100], (79, 100], (30, 59], ..., (59, 79], (30, 59], (59, 79], (30, 59], (59, 79]]\n",
       "Length: 20\n",
       "Categories (3, interval[int64]): [(30, 59] < (59, 79] < (79, 100]]"
      ]
     },
     "execution_count": 10,
     "metadata": {},
     "output_type": "execute_result"
    }
   ],
   "source": [
    "bins = [30, 59, 79, 100]\n",
    "a = pd.cut(score_list, bins)\n",
    "a"
   ]
  },
  {
   "cell_type": "code",
   "execution_count": 11,
   "metadata": {},
   "outputs": [
    {
     "data": {
      "text/plain": [
       "(30, 59]     5\n",
       "(59, 79]     8\n",
       "(79, 100]    7\n",
       "dtype: int64"
      ]
     },
     "execution_count": 11,
     "metadata": {},
     "output_type": "execute_result"
    }
   ],
   "source": [
    "a.value_counts()"
   ]
  },
  {
   "cell_type": "code",
   "execution_count": 12,
   "metadata": {},
   "outputs": [],
   "source": [
    "# DataFrame\n",
    "df = DataFrame()\n",
    "df[\"student\"] = [pd.util.testing.rands(5) for i in range(20)]"
   ]
  },
  {
   "cell_type": "code",
   "execution_count": 16,
   "metadata": {},
   "outputs": [
    {
     "data": {
      "text/html": [
       "<div>\n",
       "<style scoped>\n",
       "    .dataframe tbody tr th:only-of-type {\n",
       "        vertical-align: middle;\n",
       "    }\n",
       "\n",
       "    .dataframe tbody tr th {\n",
       "        vertical-align: top;\n",
       "    }\n",
       "\n",
       "    .dataframe thead th {\n",
       "        text-align: right;\n",
       "    }\n",
       "</style>\n",
       "<table border=\"1\" class=\"dataframe\">\n",
       "  <thead>\n",
       "    <tr style=\"text-align: right;\">\n",
       "      <th></th>\n",
       "      <th>student</th>\n",
       "      <th>score</th>\n",
       "    </tr>\n",
       "  </thead>\n",
       "  <tbody>\n",
       "    <tr>\n",
       "      <th>0</th>\n",
       "      <td>8g7UD</td>\n",
       "      <td>68</td>\n",
       "    </tr>\n",
       "    <tr>\n",
       "      <th>1</th>\n",
       "      <td>XPkef</td>\n",
       "      <td>70</td>\n",
       "    </tr>\n",
       "    <tr>\n",
       "      <th>2</th>\n",
       "      <td>87BeQ</td>\n",
       "      <td>87</td>\n",
       "    </tr>\n",
       "    <tr>\n",
       "      <th>3</th>\n",
       "      <td>MsO1K</td>\n",
       "      <td>94</td>\n",
       "    </tr>\n",
       "    <tr>\n",
       "      <th>4</th>\n",
       "      <td>MDcXC</td>\n",
       "      <td>44</td>\n",
       "    </tr>\n",
       "    <tr>\n",
       "      <th>5</th>\n",
       "      <td>48HsI</td>\n",
       "      <td>82</td>\n",
       "    </tr>\n",
       "    <tr>\n",
       "      <th>6</th>\n",
       "      <td>yG2C3</td>\n",
       "      <td>77</td>\n",
       "    </tr>\n",
       "    <tr>\n",
       "      <th>7</th>\n",
       "      <td>1Cz7r</td>\n",
       "      <td>78</td>\n",
       "    </tr>\n",
       "    <tr>\n",
       "      <th>8</th>\n",
       "      <td>Vgon7</td>\n",
       "      <td>92</td>\n",
       "    </tr>\n",
       "    <tr>\n",
       "      <th>9</th>\n",
       "      <td>11bN5</td>\n",
       "      <td>92</td>\n",
       "    </tr>\n",
       "    <tr>\n",
       "      <th>10</th>\n",
       "      <td>U9Q8Z</td>\n",
       "      <td>77</td>\n",
       "    </tr>\n",
       "    <tr>\n",
       "      <th>11</th>\n",
       "      <td>xHxHv</td>\n",
       "      <td>52</td>\n",
       "    </tr>\n",
       "    <tr>\n",
       "      <th>12</th>\n",
       "      <td>aRjk2</td>\n",
       "      <td>88</td>\n",
       "    </tr>\n",
       "    <tr>\n",
       "      <th>13</th>\n",
       "      <td>ezDA0</td>\n",
       "      <td>90</td>\n",
       "    </tr>\n",
       "    <tr>\n",
       "      <th>14</th>\n",
       "      <td>sbin1</td>\n",
       "      <td>37</td>\n",
       "    </tr>\n",
       "    <tr>\n",
       "      <th>15</th>\n",
       "      <td>6XpTv</td>\n",
       "      <td>62</td>\n",
       "    </tr>\n",
       "    <tr>\n",
       "      <th>16</th>\n",
       "      <td>aYkWO</td>\n",
       "      <td>59</td>\n",
       "    </tr>\n",
       "    <tr>\n",
       "      <th>17</th>\n",
       "      <td>Oi5Y4</td>\n",
       "      <td>77</td>\n",
       "    </tr>\n",
       "    <tr>\n",
       "      <th>18</th>\n",
       "      <td>Gj6q6</td>\n",
       "      <td>42</td>\n",
       "    </tr>\n",
       "    <tr>\n",
       "      <th>19</th>\n",
       "      <td>43Kmr</td>\n",
       "      <td>79</td>\n",
       "    </tr>\n",
       "  </tbody>\n",
       "</table>\n",
       "</div>"
      ],
      "text/plain": [
       "   student  score\n",
       "0    8g7UD     68\n",
       "1    XPkef     70\n",
       "2    87BeQ     87\n",
       "3    MsO1K     94\n",
       "4    MDcXC     44\n",
       "5    48HsI     82\n",
       "6    yG2C3     77\n",
       "7    1Cz7r     78\n",
       "8    Vgon7     92\n",
       "9    11bN5     92\n",
       "10   U9Q8Z     77\n",
       "11   xHxHv     52\n",
       "12   aRjk2     88\n",
       "13   ezDA0     90\n",
       "14   sbin1     37\n",
       "15   6XpTv     62\n",
       "16   aYkWO     59\n",
       "17   Oi5Y4     77\n",
       "18   Gj6q6     42\n",
       "19   43Kmr     79"
      ]
     },
     "execution_count": 16,
     "metadata": {},
     "output_type": "execute_result"
    }
   ],
   "source": [
    "df[\"score\"] = score_list\n",
    "df"
   ]
  },
  {
   "cell_type": "code",
   "execution_count": 19,
   "metadata": {},
   "outputs": [
    {
     "data": {
      "text/plain": [
       "0      (59, 79]\n",
       "1      (59, 79]\n",
       "2     (79, 100]\n",
       "3     (79, 100]\n",
       "4      (30, 59]\n",
       "5     (79, 100]\n",
       "6      (59, 79]\n",
       "7      (59, 79]\n",
       "8     (79, 100]\n",
       "9     (79, 100]\n",
       "10     (59, 79]\n",
       "11     (30, 59]\n",
       "12    (79, 100]\n",
       "13    (79, 100]\n",
       "14     (30, 59]\n",
       "15     (59, 79]\n",
       "16     (30, 59]\n",
       "17     (59, 79]\n",
       "18     (30, 59]\n",
       "19     (59, 79]\n",
       "Name: score, dtype: category\n",
       "Categories (3, interval[int64]): [(30, 59] < (59, 79] < (79, 100]]"
      ]
     },
     "execution_count": 19,
     "metadata": {},
     "output_type": "execute_result"
    }
   ],
   "source": [
    "pd.cut(df[\"score\"], bins)"
   ]
  },
  {
   "cell_type": "code",
   "execution_count": 22,
   "metadata": {},
   "outputs": [
    {
     "data": {
      "text/plain": [
       "0         ok\n",
       "1         ok\n",
       "2     awsome\n",
       "3     awsome\n",
       "4        bad\n",
       "5     awsome\n",
       "6         ok\n",
       "7         ok\n",
       "8     awsome\n",
       "9     awsome\n",
       "10        ok\n",
       "11       bad\n",
       "12    awsome\n",
       "13    awsome\n",
       "14       bad\n",
       "15        ok\n",
       "16       bad\n",
       "17        ok\n",
       "18       bad\n",
       "19        ok\n",
       "Name: score, dtype: category\n",
       "Categories (3, object): [bad < ok < awsome]"
      ]
     },
     "execution_count": 22,
     "metadata": {},
     "output_type": "execute_result"
    }
   ],
   "source": [
    "pd.cut(df[\"score\"], bins, labels = [\"bad\", \"ok\", \"awsome\"])"
   ]
  },
  {
   "cell_type": "code",
   "execution_count": 23,
   "metadata": {},
   "outputs": [],
   "source": [
    "df[\"bins\"] = pd.cut(df[\"score\"], bins, labels = [\"bad\", \"ok\", \"awsome\"])"
   ]
  },
  {
   "cell_type": "code",
   "execution_count": 24,
   "metadata": {},
   "outputs": [
    {
     "data": {
      "text/html": [
       "<div>\n",
       "<style scoped>\n",
       "    .dataframe tbody tr th:only-of-type {\n",
       "        vertical-align: middle;\n",
       "    }\n",
       "\n",
       "    .dataframe tbody tr th {\n",
       "        vertical-align: top;\n",
       "    }\n",
       "\n",
       "    .dataframe thead th {\n",
       "        text-align: right;\n",
       "    }\n",
       "</style>\n",
       "<table border=\"1\" class=\"dataframe\">\n",
       "  <thead>\n",
       "    <tr style=\"text-align: right;\">\n",
       "      <th></th>\n",
       "      <th>student</th>\n",
       "      <th>score</th>\n",
       "      <th>bins</th>\n",
       "    </tr>\n",
       "  </thead>\n",
       "  <tbody>\n",
       "    <tr>\n",
       "      <th>0</th>\n",
       "      <td>8g7UD</td>\n",
       "      <td>68</td>\n",
       "      <td>ok</td>\n",
       "    </tr>\n",
       "    <tr>\n",
       "      <th>1</th>\n",
       "      <td>XPkef</td>\n",
       "      <td>70</td>\n",
       "      <td>ok</td>\n",
       "    </tr>\n",
       "    <tr>\n",
       "      <th>2</th>\n",
       "      <td>87BeQ</td>\n",
       "      <td>87</td>\n",
       "      <td>awsome</td>\n",
       "    </tr>\n",
       "    <tr>\n",
       "      <th>3</th>\n",
       "      <td>MsO1K</td>\n",
       "      <td>94</td>\n",
       "      <td>awsome</td>\n",
       "    </tr>\n",
       "    <tr>\n",
       "      <th>4</th>\n",
       "      <td>MDcXC</td>\n",
       "      <td>44</td>\n",
       "      <td>bad</td>\n",
       "    </tr>\n",
       "    <tr>\n",
       "      <th>5</th>\n",
       "      <td>48HsI</td>\n",
       "      <td>82</td>\n",
       "      <td>awsome</td>\n",
       "    </tr>\n",
       "    <tr>\n",
       "      <th>6</th>\n",
       "      <td>yG2C3</td>\n",
       "      <td>77</td>\n",
       "      <td>ok</td>\n",
       "    </tr>\n",
       "    <tr>\n",
       "      <th>7</th>\n",
       "      <td>1Cz7r</td>\n",
       "      <td>78</td>\n",
       "      <td>ok</td>\n",
       "    </tr>\n",
       "    <tr>\n",
       "      <th>8</th>\n",
       "      <td>Vgon7</td>\n",
       "      <td>92</td>\n",
       "      <td>awsome</td>\n",
       "    </tr>\n",
       "    <tr>\n",
       "      <th>9</th>\n",
       "      <td>11bN5</td>\n",
       "      <td>92</td>\n",
       "      <td>awsome</td>\n",
       "    </tr>\n",
       "    <tr>\n",
       "      <th>10</th>\n",
       "      <td>U9Q8Z</td>\n",
       "      <td>77</td>\n",
       "      <td>ok</td>\n",
       "    </tr>\n",
       "    <tr>\n",
       "      <th>11</th>\n",
       "      <td>xHxHv</td>\n",
       "      <td>52</td>\n",
       "      <td>bad</td>\n",
       "    </tr>\n",
       "    <tr>\n",
       "      <th>12</th>\n",
       "      <td>aRjk2</td>\n",
       "      <td>88</td>\n",
       "      <td>awsome</td>\n",
       "    </tr>\n",
       "    <tr>\n",
       "      <th>13</th>\n",
       "      <td>ezDA0</td>\n",
       "      <td>90</td>\n",
       "      <td>awsome</td>\n",
       "    </tr>\n",
       "    <tr>\n",
       "      <th>14</th>\n",
       "      <td>sbin1</td>\n",
       "      <td>37</td>\n",
       "      <td>bad</td>\n",
       "    </tr>\n",
       "    <tr>\n",
       "      <th>15</th>\n",
       "      <td>6XpTv</td>\n",
       "      <td>62</td>\n",
       "      <td>ok</td>\n",
       "    </tr>\n",
       "    <tr>\n",
       "      <th>16</th>\n",
       "      <td>aYkWO</td>\n",
       "      <td>59</td>\n",
       "      <td>bad</td>\n",
       "    </tr>\n",
       "    <tr>\n",
       "      <th>17</th>\n",
       "      <td>Oi5Y4</td>\n",
       "      <td>77</td>\n",
       "      <td>ok</td>\n",
       "    </tr>\n",
       "    <tr>\n",
       "      <th>18</th>\n",
       "      <td>Gj6q6</td>\n",
       "      <td>42</td>\n",
       "      <td>bad</td>\n",
       "    </tr>\n",
       "    <tr>\n",
       "      <th>19</th>\n",
       "      <td>43Kmr</td>\n",
       "      <td>79</td>\n",
       "      <td>ok</td>\n",
       "    </tr>\n",
       "  </tbody>\n",
       "</table>\n",
       "</div>"
      ],
      "text/plain": [
       "   student  score    bins\n",
       "0    8g7UD     68      ok\n",
       "1    XPkef     70      ok\n",
       "2    87BeQ     87  awsome\n",
       "3    MsO1K     94  awsome\n",
       "4    MDcXC     44     bad\n",
       "5    48HsI     82  awsome\n",
       "6    yG2C3     77      ok\n",
       "7    1Cz7r     78      ok\n",
       "8    Vgon7     92  awsome\n",
       "9    11bN5     92  awsome\n",
       "10   U9Q8Z     77      ok\n",
       "11   xHxHv     52     bad\n",
       "12   aRjk2     88  awsome\n",
       "13   ezDA0     90  awsome\n",
       "14   sbin1     37     bad\n",
       "15   6XpTv     62      ok\n",
       "16   aYkWO     59     bad\n",
       "17   Oi5Y4     77      ok\n",
       "18   Gj6q6     42     bad\n",
       "19   43Kmr     79      ok"
      ]
     },
     "execution_count": 24,
     "metadata": {},
     "output_type": "execute_result"
    }
   ],
   "source": [
    "df"
   ]
  },
  {
   "cell_type": "code",
   "execution_count": null,
   "metadata": {},
   "outputs": [],
   "source": []
  }
 ],
 "metadata": {
  "kernelspec": {
   "display_name": "Python 3",
   "language": "python",
   "name": "python3"
  },
  "language_info": {
   "codemirror_mode": {
    "name": "ipython",
    "version": 3
   },
   "file_extension": ".py",
   "mimetype": "text/x-python",
   "name": "python",
   "nbconvert_exporter": "python",
   "pygments_lexer": "ipython3",
   "version": "3.5.5"
  }
 },
 "nbformat": 4,
 "nbformat_minor": 2
}
